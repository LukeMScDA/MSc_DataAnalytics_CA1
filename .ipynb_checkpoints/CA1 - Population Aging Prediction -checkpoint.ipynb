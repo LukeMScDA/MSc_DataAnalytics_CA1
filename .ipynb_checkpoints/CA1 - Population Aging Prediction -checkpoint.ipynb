{
 "cells": [
  {
   "cell_type": "markdown",
   "id": "af1b3f36",
   "metadata": {},
   "source": [
    "# CA 1 - Population Aging Prediction \n",
    "## Brief\n",
    "A large amount of data has been collected by The Central Statistics Office in Ireland in relation to the population of Ireland, This data is available at:  \n",
    "\n",
    "https://data.cso.ie/product/pme\n",
    "\n",
    "You are required to choose a particular area of interest and formulate the appropriate questions for modelling and analysis. For Example (but not limited to):\n",
    "\n",
    "Annual Population Change\n",
    "Immigration and Migration\n",
    "Population Forecasting\n",
    " etc…\n",
    "You are required to collect, process, analyse and interpret the data in order to identify possible issues/problems at present and make predictions/classifications in regard to the future. This analysis will rely on the available data from CSO and any additional data you deem necessary (with supporting evidence) to support your hypothesis for this scenario.\n",
    "\n",
    "\n",
    "## Hypothosis\n",
    "Ireland is in the middle stage of the aging population demographic. \n",
    "Within the next 50 years we may enter the old age poulation, which may put further pressure on the younger parts of the population, simialr to what has been seen in othe countries such as Germany, Japan, South Korea, etc. \n",
    "\n",
    "\n",
    "## Code\n",
    "The below script is used to describe the aging trend of the Irish population and compares it to other counties to predict the future trends of Ireland's population. \n",
    "\n",
    "## Data Used\n",
    "From https://data.cso.ie/product/pme I imported PEA01 from 1950 - 2023 for both sexes. This file is initially called PEA03.20231010T191042.csv\n",
    "\n",
    "From https://population.un.org/wpp/ I imported populaition estimates for both sexes from all UN members from as early as 1950-2021. This data set is initially called WPP2022_POP_F03_1_POPULATION_SELECT_AGE_GROUPS_BOTH_SEXES.xlsx\n",
    "\n"
   ]
  },
  {
   "cell_type": "markdown",
   "id": "139f6927",
   "metadata": {},
   "source": [
    "## Libraries\n",
    "Below are the libraries I am planning to use in this assesment"
   ]
  },
  {
   "cell_type": "code",
   "execution_count": 1,
   "id": "7fe6bff7",
   "metadata": {},
   "outputs": [
    {
     "ename": "ModuleNotFoundError",
     "evalue": "No module named 'xlrd'",
     "output_type": "error",
     "traceback": [
      "\u001b[1;31m---------------------------------------------------------------------------\u001b[0m",
      "\u001b[1;31mModuleNotFoundError\u001b[0m                       Traceback (most recent call last)",
      "Cell \u001b[1;32mIn[1], line 3\u001b[0m\n\u001b[0;32m      1\u001b[0m \u001b[38;5;28;01mimport\u001b[39;00m \u001b[38;5;21;01mnumpy\u001b[39;00m \u001b[38;5;28;01mas\u001b[39;00m \u001b[38;5;21;01mnp\u001b[39;00m\n\u001b[0;32m      2\u001b[0m \u001b[38;5;28;01mimport\u001b[39;00m \u001b[38;5;21;01mpandas\u001b[39;00m \u001b[38;5;28;01mas\u001b[39;00m \u001b[38;5;21;01mpd\u001b[39;00m\n\u001b[1;32m----> 3\u001b[0m \u001b[38;5;28;01mimport\u001b[39;00m \u001b[38;5;21;01mxlrd\u001b[39;00m\n\u001b[0;32m      4\u001b[0m \u001b[38;5;28;01mimport\u001b[39;00m \u001b[38;5;21;01mcsv\u001b[39;00m\n",
      "\u001b[1;31mModuleNotFoundError\u001b[0m: No module named 'xlrd'"
     ]
    }
   ],
   "source": [
    "import numpy as np\n",
    "import pandas as pd\n",
    "import xlrd\n",
    "import csv"
   ]
  },
  {
   "cell_type": "markdown",
   "id": "1fe5ae55",
   "metadata": {},
   "source": [
    "### Note\n",
    "xlrd and csv are non standard librariies, so pip line to isntall if needed"
   ]
  },
  {
   "cell_type": "code",
   "execution_count": 3,
   "id": "5a32a7fb",
   "metadata": {},
   "outputs": [
    {
     "name": "stdout",
     "output_type": "stream",
     "text": [
      "Collecting xlrdNote: you may need to restart the kernel to use updated packages.\n",
      "\n",
      "  Downloading xlrd-2.0.1-py2.py3-none-any.whl (96 kB)\n",
      "     ---------------------------------------- 0.0/96.5 kB ? eta -:--:--\n",
      "     ---- ----------------------------------- 10.2/96.5 kB ? eta -:--:--\n",
      "     ------------------------ ------------- 61.4/96.5 kB 812.7 kB/s eta 0:00:01\n",
      "     -------------------------------------- - 92.2/96.5 kB 1.3 MB/s eta 0:00:01\n",
      "     -------------------------------------- 96.5/96.5 kB 784.5 kB/s eta 0:00:00\n",
      "Installing collected packages: xlrd\n",
      "Successfully installed xlrd-2.0.1\n"
     ]
    }
   ],
   "source": [
    "pip install xlrd"
   ]
  },
  {
   "cell_type": "code",
   "execution_count": 4,
   "id": "07ac48c2",
   "metadata": {},
   "outputs": [
    {
     "name": "stdout",
     "output_type": "stream",
     "text": [
      "Note: you may need to restart the kernel to use updated packages.\n"
     ]
    },
    {
     "name": "stderr",
     "output_type": "stream",
     "text": [
      "ERROR: Could not find a version that satisfies the requirement csv (from versions: none)\n",
      "ERROR: No matching distribution found for csv\n"
     ]
    }
   ],
   "source": [
    "pip install csv"
   ]
  },
  {
   "cell_type": "code",
   "execution_count": 8,
   "id": "3144f4bc",
   "metadata": {},
   "outputs": [],
   "source": [
    "import numpy as np\n",
    "import pandas as pd\n",
    "import xlrd\n",
    "import csv"
   ]
  },
  {
   "cell_type": "markdown",
   "id": "8e773d3b",
   "metadata": {},
   "source": [
    "## First step\n",
    "\n",
    "The first item I would like to do is to convert WPP2022_POP_F03_1_POPULATION_SELECT_AGE_GROUPS_BOTH_SEXES.xlsx from an excel data table to a csv, as this is easier to manipulate. \n",
    "\n",
    "This will be done my extracting the first sheet, Estimates"
   ]
  },
  {
   "cell_type": "code",
   "execution_count": 10,
   "id": "287b4064",
   "metadata": {},
   "outputs": [],
   "source": [
    "def conv_excel_to_csv():\n",
    "    xcl = xlrd.open_workbook('C:/Users/lfarrel/OneDrive - KLA Corporation/Documents/GitHub/MSc_DataAnalytics_CA1/WPP2022_POP_F03_1_POPULATION_SELECT_AGE_GROUPS_BOTH_SEXES.xlsx')\n",
    "    sht = wb.sheet_by_name('Estimates')\n",
    "    new_csv = open('PEA_World.csv', 'xcl')\n",
    "    wr = csv.writer( PEA_World, quoting = csv.QUOTE_ALL)\n",
    "\n",
    "    for rownum in xrange(sht.nrows):\n",
    "        wr.writerow(sht.row_values(rownum))\n",
    "\n",
    "    PEA_World.close()"
   ]
  },
  {
   "cell_type": "code",
   "execution_count": null,
   "id": "a18fa8a5",
   "metadata": {},
   "outputs": [],
   "source": []
  }
 ],
 "metadata": {
  "kernelspec": {
   "display_name": "Python 3 (ipykernel)",
   "language": "python",
   "name": "python3"
  },
  "language_info": {
   "codemirror_mode": {
    "name": "ipython",
    "version": 3
   },
   "file_extension": ".py",
   "mimetype": "text/x-python",
   "name": "python",
   "nbconvert_exporter": "python",
   "pygments_lexer": "ipython3",
   "version": "3.11.5"
  }
 },
 "nbformat": 4,
 "nbformat_minor": 5
}
