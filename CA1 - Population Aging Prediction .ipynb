{
 "cells": [
  {
   "cell_type": "markdown",
   "id": "af1b3f36",
   "metadata": {},
   "source": [
    "# CA 1 - Population Aging Prediction \n",
    "## Brief\n",
    "A large amount of data has been collected by The Central Statistics Office in Ireland in relation to the population of Ireland, This data is available at:  \n",
    "\n",
    "https://data.cso.ie/product/pme\n",
    "\n",
    "You are required to choose a particular area of interest and formulate the appropriate questions for modelling and analysis. For Example (but not limited to):\n",
    "\n",
    "Annual Population Change\n",
    "Immigration and Migration\n",
    "Population Forecasting\n",
    " etc…\n",
    "You are required to collect, process, analyse and interpret the data in order to identify possible issues/problems at present and make predictions/classifications in regard to the future. This analysis will rely on the available data from CSO and any additional data you deem necessary (with supporting evidence) to support your hypothesis for this scenario.\n",
    "\n",
    "\n",
    "## Hypotosis\n",
    "Ireland is in the middle stage of the aging population demographic. \n",
    "Within the next 50 years we may enter the old age poulation, which may put further pressure on the younger parts of the population, simialr to what has been seen in othe countries such as Germany, Japan, South Korea, etc. \n",
    "\n",
    "\n",
    "## Code\n",
    "The below script is used to describe the aging trend of the Irish population and compares it to other counties to predict the future trends of Ireland's population. \n"
   ]
  },
  {
   "cell_type": "markdown",
   "id": "139f6927",
   "metadata": {},
   "source": [
    "## Libraries\n",
    "Below are the libraries I am planning to use in this assesment"
   ]
  },
  {
   "cell_type": "code",
   "execution_count": null,
   "id": "7fe6bff7",
   "metadata": {},
   "outputs": [],
   "source": [
    "import numpy as np\n",
    "import pandas as pd"
   ]
  }
 ],
 "metadata": {
  "kernelspec": {
   "display_name": "Python 3 (ipykernel)",
   "language": "python",
   "name": "python3"
  },
  "language_info": {
   "codemirror_mode": {
    "name": "ipython",
    "version": 3
   },
   "file_extension": ".py",
   "mimetype": "text/x-python",
   "name": "python",
   "nbconvert_exporter": "python",
   "pygments_lexer": "ipython3",
   "version": "3.9.12"
  }
 },
 "nbformat": 4,
 "nbformat_minor": 5
}
